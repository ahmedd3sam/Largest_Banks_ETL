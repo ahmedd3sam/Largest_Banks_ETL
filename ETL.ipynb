{
 "cells": [
  {
   "cell_type": "markdown",
   "id": "9caf307d",
   "metadata": {},
   "source": [
    "## Installing libraries"
   ]
  },
  {
   "cell_type": "code",
   "execution_count": 84,
   "id": "43859ee1",
   "metadata": {},
   "outputs": [],
   "source": [
    "# Importing the required libraries\n",
    "import pandas as pd\n",
    "import numpy as np\n",
    "from bs4 import BeautifulSoup\n",
    "import requests\n",
    "import datetime"
   ]
  },
  {
   "cell_type": "code",
   "execution_count": 85,
   "id": "53763c96",
   "metadata": {},
   "outputs": [],
   "source": [
    "url = 'https://web.archive.org/web/20230908091635 /https://en.wikipedia.org/wiki/List_of_largest_banks'\n",
    "db_name = 'Banks.db'\n",
    "csv_name = 'Largest_banks_data.csv'\n",
    "table_name = 'Largest_banks'\n",
    "\n",
    "csv_path = f'output/{csv_name}'\n",
    "db_path = f'{db_name}'\n",
    "\n",
    "log_file = \"code_log.txt\"\n",
    "log_path = f\"log/{log_file}\"\n"
   ]
  },
  {
   "cell_type": "markdown",
   "id": "488c7482",
   "metadata": {},
   "source": [
    "## Logging function:\n",
    "- function to log the progress of the code.\n",
    "- The function accepts the message to be logged and enters it to a text file code_log.txt."
   ]
  },
  {
   "cell_type": "code",
   "execution_count": 86,
   "id": "555b7503",
   "metadata": {},
   "outputs": [],
   "source": [
    "def log_progress(message): \n",
    "    ''' This function logs the mentioned message of a given stage of the\n",
    "    code execution to a log file. Function returns nothing'''\n",
    "    log_file_path = log_path\n",
    "    \n",
    "    timestamp_format = '%Y-%h-%d-%H:%M:%S' # Year-Monthname-Day-Hour-Minute-Second \n",
    "    now = datetime.datetime.now() # get current timestamp \n",
    "    timestamp = now.strftime(timestamp_format) \n",
    "    \n",
    "    with open(log_file_path,\"a\") as f: \n",
    "        f.write(timestamp + ':' + message + '\\n')"
   ]
  },
  {
   "cell_type": "markdown",
   "id": "912bf49d",
   "metadata": {},
   "source": [
    "## Extraction of data"
   ]
  },
  {
   "cell_type": "code",
   "execution_count": 87,
   "id": "35e7d90c",
   "metadata": {},
   "outputs": [],
   "source": [
    "from io import StringIO\n",
    "\n",
    "\n",
    "def extract(url, table_attribs):\n",
    "    \"\"\" This function aims to extract the required\n",
    "    information from the website and save it to a data frame. The\n",
    "    function returns the data frame for further processing. \"\"\"\n",
    "\n",
    "    soup = BeautifulSoup(requests.get(url).text, 'html.parser')\n",
    "    table = soup.find('span', string=table_attribs).find_next('table')\n",
    "    df = pd.read_html(StringIO(str(table)))[0]\n",
    "\n",
    "    log_progress('Data extraction complete. Initiating Transformation process')\n",
    "\n",
    "    return df"
   ]
  },
  {
   "cell_type": "code",
   "execution_count": 88,
   "id": "36cf810c",
   "metadata": {},
   "outputs": [],
   "source": [
    "df = extract(url , \"By market capitalization\")"
   ]
  },
  {
   "cell_type": "markdown",
   "id": "c3d970d6",
   "metadata": {},
   "source": [
    "## Transformation of data:\n",
    "- Read the exchange rate CSV file.\n",
    "- Converting the contents to a dictionary.\n",
    "- Adding 3 different columns to the dataframe, { MC_GBP_Billion, MC_EUR_Billion and MC_INR_Billion} containing the content of MC_USD_Billion scaled by the corresponding exchange rate factor.\n",
    "- Rounding the resulting data to 2 decimal places."
   ]
  },
  {
   "cell_type": "code",
   "execution_count": 89,
   "id": "7057fa3e",
   "metadata": {},
   "outputs": [],
   "source": [
    "def transform(df, csv_path):\n",
    "    ''' This function accesses the CSV file for exchange rate\n",
    "    information, and adds three columns to the data frame, each\n",
    "    containing the transformed version of Market Cap column to\n",
    "    respective currencies'''\n",
    "\n",
    "    exchange_rate = pd.read_csv(csv_path, index_col=0).to_dict()['Rate']\n",
    "\n",
    "    df['MC_GBP_Billion'] = round(df['Market cap (US$ billion)'] * exchange_rate['GBP'], 2)\n",
    "    df['MC_EUR_Billion'] = round(df['Market cap (US$ billion)'] * exchange_rate['EUR'], 2)\n",
    "    df['MC_INR_Billion'] = round(df['Market cap (US$ billion)'] * exchange_rate['INR'], 2)\n",
    "    df = df.rename(columns={\"Bank name\": \"Name\"})\n",
    "\n",
    "    log_progress('Data transformation complete. Initiating Loading process')\n",
    "\n",
    "    return df"
   ]
  },
  {
   "cell_type": "code",
   "execution_count": 90,
   "id": "98e8ed59",
   "metadata": {},
   "outputs": [
    {
     "data": {
      "text/html": [
       "<div>\n",
       "<style scoped>\n",
       "    .dataframe tbody tr th:only-of-type {\n",
       "        vertical-align: middle;\n",
       "    }\n",
       "\n",
       "    .dataframe tbody tr th {\n",
       "        vertical-align: top;\n",
       "    }\n",
       "\n",
       "    .dataframe thead th {\n",
       "        text-align: right;\n",
       "    }\n",
       "</style>\n",
       "<table border=\"1\" class=\"dataframe\">\n",
       "  <thead>\n",
       "    <tr style=\"text-align: right;\">\n",
       "      <th></th>\n",
       "      <th>Rank</th>\n",
       "      <th>Name</th>\n",
       "      <th>Market cap (US$ billion)</th>\n",
       "      <th>MC_GBP_Billion</th>\n",
       "      <th>MC_EUR_Billion</th>\n",
       "      <th>MC_INR_Billion</th>\n",
       "    </tr>\n",
       "  </thead>\n",
       "  <tbody>\n",
       "    <tr>\n",
       "      <th>0</th>\n",
       "      <td>1</td>\n",
       "      <td>JPMorgan Chase</td>\n",
       "      <td>432.92</td>\n",
       "      <td>346.34</td>\n",
       "      <td>402.62</td>\n",
       "      <td>35910.71</td>\n",
       "    </tr>\n",
       "    <tr>\n",
       "      <th>1</th>\n",
       "      <td>2</td>\n",
       "      <td>Bank of America</td>\n",
       "      <td>231.52</td>\n",
       "      <td>185.22</td>\n",
       "      <td>215.31</td>\n",
       "      <td>19204.58</td>\n",
       "    </tr>\n",
       "    <tr>\n",
       "      <th>2</th>\n",
       "      <td>3</td>\n",
       "      <td>Industrial and Commercial Bank of China</td>\n",
       "      <td>194.56</td>\n",
       "      <td>155.65</td>\n",
       "      <td>180.94</td>\n",
       "      <td>16138.75</td>\n",
       "    </tr>\n",
       "    <tr>\n",
       "      <th>3</th>\n",
       "      <td>4</td>\n",
       "      <td>Agricultural Bank of China</td>\n",
       "      <td>160.68</td>\n",
       "      <td>128.54</td>\n",
       "      <td>149.43</td>\n",
       "      <td>13328.41</td>\n",
       "    </tr>\n",
       "    <tr>\n",
       "      <th>4</th>\n",
       "      <td>5</td>\n",
       "      <td>HDFC Bank</td>\n",
       "      <td>157.91</td>\n",
       "      <td>126.33</td>\n",
       "      <td>146.86</td>\n",
       "      <td>13098.63</td>\n",
       "    </tr>\n",
       "    <tr>\n",
       "      <th>5</th>\n",
       "      <td>6</td>\n",
       "      <td>Wells Fargo</td>\n",
       "      <td>155.87</td>\n",
       "      <td>124.70</td>\n",
       "      <td>144.96</td>\n",
       "      <td>12929.42</td>\n",
       "    </tr>\n",
       "    <tr>\n",
       "      <th>6</th>\n",
       "      <td>7</td>\n",
       "      <td>HSBC Holdings PLC</td>\n",
       "      <td>148.90</td>\n",
       "      <td>119.12</td>\n",
       "      <td>138.48</td>\n",
       "      <td>12351.26</td>\n",
       "    </tr>\n",
       "    <tr>\n",
       "      <th>7</th>\n",
       "      <td>8</td>\n",
       "      <td>Morgan Stanley</td>\n",
       "      <td>140.83</td>\n",
       "      <td>112.66</td>\n",
       "      <td>130.97</td>\n",
       "      <td>11681.85</td>\n",
       "    </tr>\n",
       "    <tr>\n",
       "      <th>8</th>\n",
       "      <td>9</td>\n",
       "      <td>China Construction Bank</td>\n",
       "      <td>139.82</td>\n",
       "      <td>111.86</td>\n",
       "      <td>130.03</td>\n",
       "      <td>11598.07</td>\n",
       "    </tr>\n",
       "    <tr>\n",
       "      <th>9</th>\n",
       "      <td>10</td>\n",
       "      <td>Bank of China</td>\n",
       "      <td>136.81</td>\n",
       "      <td>109.45</td>\n",
       "      <td>127.23</td>\n",
       "      <td>11348.39</td>\n",
       "    </tr>\n",
       "  </tbody>\n",
       "</table>\n",
       "</div>"
      ],
      "text/plain": [
       "   Rank                                     Name  Market cap (US$ billion)  \\\n",
       "0     1                           JPMorgan Chase                    432.92   \n",
       "1     2                          Bank of America                    231.52   \n",
       "2     3  Industrial and Commercial Bank of China                    194.56   \n",
       "3     4               Agricultural Bank of China                    160.68   \n",
       "4     5                                HDFC Bank                    157.91   \n",
       "5     6                              Wells Fargo                    155.87   \n",
       "6     7                        HSBC Holdings PLC                    148.90   \n",
       "7     8                           Morgan Stanley                    140.83   \n",
       "8     9                  China Construction Bank                    139.82   \n",
       "9    10                            Bank of China                    136.81   \n",
       "\n",
       "   MC_GBP_Billion  MC_EUR_Billion  MC_INR_Billion  \n",
       "0          346.34          402.62        35910.71  \n",
       "1          185.22          215.31        19204.58  \n",
       "2          155.65          180.94        16138.75  \n",
       "3          128.54          149.43        13328.41  \n",
       "4          126.33          146.86        13098.63  \n",
       "5          124.70          144.96        12929.42  \n",
       "6          119.12          138.48        12351.26  \n",
       "7          112.66          130.97        11681.85  \n",
       "8          111.86          130.03        11598.07  \n",
       "9          109.45          127.23        11348.39  "
      ]
     },
     "execution_count": 90,
     "metadata": {},
     "output_type": "execute_result"
    }
   ],
   "source": [
    "df2 = transform(df , \"exchange_rate.csv\")\n",
    "\n",
    "df2"
   ]
  },
  {
   "cell_type": "markdown",
   "id": "a0c6092d",
   "metadata": {},
   "source": [
    "## Loading Dataframe to CSV File:"
   ]
  },
  {
   "cell_type": "code",
   "execution_count": 91,
   "id": "f79f1f1c",
   "metadata": {},
   "outputs": [],
   "source": [
    "def load_to_csv(df, output_path):\n",
    "    ''' This function saves the final data frame as a CSV file in\n",
    "    the provided path. Function returns nothing.'''\n",
    "\n",
    "    df.to_csv(output_path)\n",
    "\n",
    "    log_progress('Data saved to CSV file')"
   ]
  },
  {
   "cell_type": "code",
   "execution_count": 92,
   "id": "51b560c8",
   "metadata": {},
   "outputs": [],
   "source": [
    "load_to_csv(df2 , \"output/Largest_banks.csv\")"
   ]
  },
  {
   "cell_type": "markdown",
   "id": "6951b4d0",
   "metadata": {},
   "source": [
    "## Loading Dataframe to database:\n"
   ]
  },
  {
   "cell_type": "code",
   "execution_count": 93,
   "id": "512a1c28",
   "metadata": {},
   "outputs": [],
   "source": [
    "def load_to_db(df, sql_connection, table_name):\n",
    "    ''' This function saves the final data frame to a database\n",
    "    table with the provided name. Function returns nothing.'''\n",
    "    \n",
    "    df.to_sql(table_name, sql_connection, if_exists='replace', index=False)\n",
    "\n",
    "    log_progress('Data loaded to Database as a table, Executing queries')"
   ]
  },
  {
   "cell_type": "code",
   "execution_count": 94,
   "id": "8bb86f39",
   "metadata": {},
   "outputs": [],
   "source": [
    "# Establish a connection to the SQLite3 database\n",
    "import sqlite3\n",
    "\n",
    "connection = sqlite3.connect('Banks.db')\n",
    "load_to_db(df2, connection , \"Largest_banks\")"
   ]
  },
  {
   "cell_type": "markdown",
   "id": "d97f95b0",
   "metadata": {},
   "source": [
    "## Run queries on Database"
   ]
  },
  {
   "cell_type": "code",
   "execution_count": 95,
   "id": "5e7316e4",
   "metadata": {},
   "outputs": [],
   "source": [
    "def run_query(query_statement, sql_connection):\n",
    "    ''' This function runs the query on the database table and\n",
    "    prints the output on the terminal. Function returns nothing. '''\n",
    "\n",
    "    df = pd.read_sql_query(query_statement , sql_connection)\n",
    "    print(df)\n",
    "   \n",
    "    log_progress('Process Complete')"
   ]
  },
  {
   "cell_type": "code",
   "execution_count": 96,
   "id": "68197c31",
   "metadata": {},
   "outputs": [
    {
     "name": "stdout",
     "output_type": "stream",
     "text": [
      "   Rank                                     Name  Market cap (US$ billion)  \\\n",
      "0     1                           JPMorgan Chase                    432.92   \n",
      "1     2                          Bank of America                    231.52   \n",
      "2     3  Industrial and Commercial Bank of China                    194.56   \n",
      "3     4               Agricultural Bank of China                    160.68   \n",
      "4     5                                HDFC Bank                    157.91   \n",
      "5     6                              Wells Fargo                    155.87   \n",
      "6     7                        HSBC Holdings PLC                    148.90   \n",
      "7     8                           Morgan Stanley                    140.83   \n",
      "8     9                  China Construction Bank                    139.82   \n",
      "9    10                            Bank of China                    136.81   \n",
      "\n",
      "   MC_GBP_Billion  MC_EUR_Billion  MC_INR_Billion  \n",
      "0          346.34          402.62        35910.71  \n",
      "1          185.22          215.31        19204.58  \n",
      "2          155.65          180.94        16138.75  \n",
      "3          128.54          149.43        13328.41  \n",
      "4          126.33          146.86        13098.63  \n",
      "5          124.70          144.96        12929.42  \n",
      "6          119.12          138.48        12351.26  \n",
      "7          112.66          130.97        11681.85  \n",
      "8          111.86          130.03        11598.07  \n",
      "9          109.45          127.23        11348.39  \n",
      "   AVG(MC_GBP_Billion)\n",
      "0              151.987\n",
      "                                      Name\n",
      "0                           JPMorgan Chase\n",
      "1                          Bank of America\n",
      "2  Industrial and Commercial Bank of China\n",
      "3               Agricultural Bank of China\n",
      "4                                HDFC Bank\n"
     ]
    }
   ],
   "source": [
    "run_query('SELECT * FROM Largest_banks', connection)\n",
    "run_query('SELECT AVG(MC_GBP_Billion) FROM Largest_banks', connection)\n",
    "run_query('SELECT Name from Largest_banks LIMIT 5', connection)"
   ]
  }
 ],
 "metadata": {
  "kernelspec": {
   "display_name": "Python 3",
   "language": "python",
   "name": "python3"
  },
  "language_info": {
   "codemirror_mode": {
    "name": "ipython",
    "version": 3
   },
   "file_extension": ".py",
   "mimetype": "text/x-python",
   "name": "python",
   "nbconvert_exporter": "python",
   "pygments_lexer": "ipython3",
   "version": "3.12.3"
  }
 },
 "nbformat": 4,
 "nbformat_minor": 5
}
